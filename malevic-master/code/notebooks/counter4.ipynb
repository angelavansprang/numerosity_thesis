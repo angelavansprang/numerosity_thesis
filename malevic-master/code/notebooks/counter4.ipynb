{
 "cells": [
  {
   "attachments": {},
   "cell_type": "markdown",
   "metadata": {},
   "source": [
    "## 4rd notebook for improving the counter\n",
    "This notebook contains the final attempt to have a principled approach for counting. \n",
    "\n",
    "The idea is to first consider a set of segmentations, and then for each segmentation determine a probability. The probability is the product of segment probabilities with an additional punishment for the amount of patches that overlap, which is a hyperparameter than can be tuned. The goal is to find some probabilistic model that maps the segmentations to truthful probabilities."
   ]
  },
  {
   "attachments": {},
   "cell_type": "markdown",
   "metadata": {},
   "source": [
    "### 1. Load utilities"
   ]
  },
  {
   "cell_type": "code",
   "execution_count": 9,
   "metadata": {},
   "outputs": [],
   "source": [
    "import sys\n",
    "sys.path.append(\"../\")\n",
    "sys.path.append(\"../amnesic_probing/\")\n",
    "sys.path.append(\"../amnesic_probing/\")\n",
    "sys.path.append(\"../../../\")\n",
    "import transformer_patches\n",
    "import utils\n",
    "import torch\n",
    "import pickle\n",
    "import numpy as np\n",
    "import copy"
   ]
  },
  {
   "cell_type": "code",
   "execution_count": 2,
   "metadata": {},
   "outputs": [
    {
     "name": "stdout",
     "output_type": "stream",
     "text": [
      "loaded model:  ../../models/MLP2_layer7_0_pos_binding_problem_unfiltered_no_layernorm_mode:normal_OLD.pt\n"
     ]
    }
   ],
   "source": [
    "def get_binding_probe(layer, modelname, mode):\n",
    "    D_in = 2 * 768\n",
    "    D_out = 2\n",
    "\n",
    "    dataset_totrain = \"pos\"\n",
    "    padding_up_to = None\n",
    "    layernorm = False\n",
    "    amnesic_obj = None\n",
    "    first_projection_only = False\n",
    "\n",
    "    model_path = f'../../models/{modelname}_layer{layer}_0_{dataset_totrain}_binding_problem_{\"filtered_\" + str({padding_up_to}) if padding_up_to is not None else \"unfiltered\"}_{\"layernorm\" if layernorm else \"no_layernorm\"}{\"_amnesic\" + str({amnesic_obj}) if amnesic_obj is not None else \"\"}{\"_firstprojectiononly\" if first_projection_only else \"\"}{\"_normalmode\" if mode is None else f\"_mode:{mode}\"}.pt'\n",
    "\n",
    "    model = utils.open_model(D_in, D_out, layernorm, modelname)\n",
    "    model.load_state_dict(torch.load(model_path))\n",
    "    model.eval()\n",
    "\n",
    "    print(\"loaded model: \", model_path)\n",
    "\n",
    "    return model\n",
    "\n",
    "binding_probe_normal = get_binding_probe(7, \"MLP2\", \"normal_OLD\")\n"
   ]
  },
  {
   "cell_type": "code",
   "execution_count": 3,
   "metadata": {},
   "outputs": [
    {
     "name": "stdout",
     "output_type": "stream",
     "text": [
      "loaded model:  ../../models/MLP2_layer7_pos_object_det.pt\n"
     ]
    }
   ],
   "source": [
    "def get_detect_probe(layer, modelname):\n",
    "\n",
    "    dataset = \"pos\"\n",
    "    layernorm = False\n",
    "\n",
    "    detect_path = f\"../../models/{modelname}_layer{layer}_{dataset}_object_det.pt\"\n",
    "    detect_probe = utils.open_model(768, 2, layernorm, modelname)\n",
    "    detect_probe.load_state_dict(torch.load(detect_path))\n",
    "    detect_probe.eval()\n",
    "\n",
    "    print(\"loaded model: \", detect_path)\n",
    "\n",
    "    return detect_probe\n",
    "\n",
    "detect_probe = get_detect_probe(7, \"MLP2\")"
   ]
  },
  {
   "cell_type": "code",
   "execution_count": 4,
   "metadata": {},
   "outputs": [],
   "source": [
    "def get_representations(dataset, split):\n",
    "    file = f\"{dataset}_{split}_visual.pickle\"\n",
    "\n",
    "    with open(f\"../../data/{dataset}/representations/\" + file, \"rb\") as f:\n",
    "        reprs = pickle.load(f)\n",
    "\n",
    "    return reprs\n",
    "\n",
    "reprs = get_representations(\"pos\", \"train\")\n",
    "    "
   ]
  },
  {
   "cell_type": "code",
   "execution_count": 5,
   "metadata": {},
   "outputs": [],
   "source": [
    "def stack_reprs_2patches(patch1, patch2, repr, layer):\n",
    "\n",
    "    input1 = utils.filter_repr(\n",
    "        layer, [patch1], repr, single_patch=True, padding_up_to=None\n",
    "    )\n",
    "    input2 = utils.filter_repr(\n",
    "        layer, [patch2], repr, single_patch=True, padding_up_to=None\n",
    "    )\n",
    "    z = torch.stack(\n",
    "        [torch.from_numpy(input1[0]), torch.from_numpy(input2[0])]\n",
    "    ) \n",
    "    z = z.flatten()\n",
    "    return z"
   ]
  },
  {
   "cell_type": "code",
   "execution_count": 6,
   "metadata": {},
   "outputs": [],
   "source": [
    "def same_object(patch_id1, patch_id2, model, reprs, layer):\n",
    "    # Check whether patch_id1 and patch_id2 are the same object twice (in both directions)\n",
    "    z1 = stack_reprs_2patches(patch_id1, patch_id2, reprs, layer)\n",
    "    z2 = stack_reprs_2patches(patch_id2, patch_id1, reprs, layer)\n",
    "\n",
    "    input = torch.stack((z1, z2))\n",
    "\n",
    "    out = model.forward(input)\n",
    "    y1, y2 = torch.softmax(out, dim=1)\n",
    "    prob = np.mean(\n",
    "        (y1[1].item(), y2[1].item())\n",
    "    )  # weighted average of probabilities in both directions\n",
    "\n",
    "    return 1 if prob >= 0.5 else 0"
   ]
  },
  {
   "cell_type": "code",
   "execution_count": 7,
   "metadata": {},
   "outputs": [],
   "source": [
    "def get_prob_same_object(patch_id1, patch_id2, model, reprs, layer):\n",
    "    # Check whether patch_id1 and patch_id2 are the same object twice (in both directions)\n",
    "    z1 = stack_reprs_2patches(patch_id1, patch_id2, reprs, layer)\n",
    "    z2 = stack_reprs_2patches(patch_id2, patch_id1, reprs, layer)\n",
    "\n",
    "    input = torch.stack((z1, z2))\n",
    "\n",
    "    out = model.forward(input)\n",
    "    y1, y2 = torch.softmax(out, dim=1)\n",
    "    prob = np.mean(\n",
    "        (y1[1].item(), y2[1].item())\n",
    "    )  # weighted average of probabilities in both directions\n",
    "\n",
    "    return prob"
   ]
  },
  {
   "attachments": {},
   "cell_type": "markdown",
   "metadata": {},
   "source": [
    "### 2. Obtain possible segmentations"
   ]
  },
  {
   "cell_type": "code",
   "execution_count": 10,
   "metadata": {},
   "outputs": [
    {
     "ename": "FileNotFoundError",
     "evalue": "[Errno 2] No such file or directory: '../data/pos/images/train/28.png'",
     "output_type": "error",
     "traceback": [
      "\u001b[0;31m---------------------------------------------------------------------------\u001b[0m",
      "\u001b[0;31mFileNotFoundError\u001b[0m                         Traceback (most recent call last)",
      "Cell \u001b[0;32mIn[10], line 5\u001b[0m\n\u001b[1;32m      2\u001b[0m \u001b[39mimport\u001b[39;00m \u001b[39mcounter\u001b[39;00m\n\u001b[1;32m      4\u001b[0m img_id \u001b[39m=\u001b[39m \u001b[39m\"\u001b[39m\u001b[39m28\u001b[39m\u001b[39m\"\u001b[39m\n\u001b[0;32m----> 5\u001b[0m patches \u001b[39m=\u001b[39m utils_transformer_patches\u001b[39m.\u001b[39;49mget_all_patches_with_objects(\u001b[39mf\u001b[39;49m\u001b[39m'\u001b[39;49m\u001b[39m{\u001b[39;49;00mimg_id\u001b[39m}\u001b[39;49;00m\u001b[39m.png\u001b[39;49m\u001b[39m'\u001b[39;49m, \u001b[39m\"\u001b[39;49m\u001b[39mpos\u001b[39;49m\u001b[39m\"\u001b[39;49m, \u001b[39m\"\u001b[39;49m\u001b[39mtrain\u001b[39;49m\u001b[39m\"\u001b[39;49m)\n\u001b[1;32m      6\u001b[0m utils_transformer_patches\u001b[39m.\u001b[39mopen_image_withpatches(\u001b[39mf\u001b[39m\u001b[39m\"\u001b[39m\u001b[39m{\u001b[39;00mimg_id\u001b[39m}\u001b[39;00m\u001b[39m.png\u001b[39m\u001b[39m\"\u001b[39m, \u001b[39m\"\u001b[39m\u001b[39mpos\u001b[39m\u001b[39m\"\u001b[39m, \u001b[39m\"\u001b[39m\u001b[39mtrain\u001b[39m\u001b[39m\"\u001b[39m, to_save\u001b[39m=\u001b[39m\u001b[39mFalse\u001b[39;00m)\n",
      "File \u001b[0;32m~/Documents/MSc Thesis/numerosity_thesis/malevic-master/code/notebooks/utils_transformer_patches.py:81\u001b[0m, in \u001b[0;36mget_all_patches_with_objects\u001b[0;34m(img_filename, dataset, split)\u001b[0m\n\u001b[1;32m     79\u001b[0m \u001b[39m\u001b[39m\u001b[39m\"\"\"New version: returns dictionary of patch numbers with box\"\"\"\u001b[39;00m\n\u001b[1;32m     80\u001b[0m img_path \u001b[39m=\u001b[39m \u001b[39mf\u001b[39m\u001b[39m\"\u001b[39m\u001b[39m../../data/\u001b[39m\u001b[39m{\u001b[39;00mdataset\u001b[39m}\u001b[39;00m\u001b[39m/images/\u001b[39m\u001b[39m{\u001b[39;00msplit\u001b[39m}\u001b[39;00m\u001b[39m/\u001b[39m\u001b[39m{\u001b[39;00mimg_filename\u001b[39m}\u001b[39;00m\u001b[39m\"\u001b[39m\n\u001b[0;32m---> 81\u001b[0m boxes \u001b[39m=\u001b[39m bounding_boxes\u001b[39m.\u001b[39;49mget_boxes(img_filename, dataset, split)\n\u001b[1;32m     83\u001b[0m img \u001b[39m=\u001b[39m Image\u001b[39m.\u001b[39mopen(img_path)\n\u001b[1;32m     84\u001b[0m height, width \u001b[39m=\u001b[39m img\u001b[39m.\u001b[39msize\n",
      "File \u001b[0;32m~/Documents/MSc Thesis/numerosity_thesis/malevic-master/code/notebooks/../bounding_boxes.py:128\u001b[0m, in \u001b[0;36mget_boxes\u001b[0;34m(img_filename, dataset, split)\u001b[0m\n\u001b[1;32m    126\u001b[0m img_path \u001b[39m=\u001b[39m \u001b[39mf\u001b[39m\u001b[39m\"\u001b[39m\u001b[39m../data/\u001b[39m\u001b[39m{\u001b[39;00mdataset\u001b[39m}\u001b[39;00m\u001b[39m/images/\u001b[39m\u001b[39m{\u001b[39;00msplit\u001b[39m}\u001b[39;00m\u001b[39m/\u001b[39m\u001b[39m{\u001b[39;00mimg_filename\u001b[39m}\u001b[39;00m\u001b[39m\"\u001b[39m\n\u001b[1;32m    127\u001b[0m annotation \u001b[39m=\u001b[39m utils\u001b[39m.\u001b[39mget_annotation(dataset\u001b[39m=\u001b[39mdataset, split\u001b[39m=\u001b[39msplit)\n\u001b[0;32m--> 128\u001b[0m img \u001b[39m=\u001b[39m Image\u001b[39m.\u001b[39;49mopen(img_path)\n\u001b[1;32m    129\u001b[0m img_size \u001b[39m=\u001b[39m img\u001b[39m.\u001b[39msize\n\u001b[1;32m    130\u001b[0m \u001b[39massert\u001b[39;00m img_size[\u001b[39m0\u001b[39m] \u001b[39m==\u001b[39m img_size[\u001b[39m1\u001b[39m], \u001b[39m\"\u001b[39m\u001b[39mwidth should equal height\u001b[39m\u001b[39m\"\u001b[39m\n",
      "File \u001b[0;32m~/opt/anaconda3/envs/newthesis/lib/python3.10/site-packages/PIL/Image.py:3236\u001b[0m, in \u001b[0;36mopen\u001b[0;34m(fp, mode, formats)\u001b[0m\n\u001b[1;32m   3233\u001b[0m     filename \u001b[39m=\u001b[39m fp\n\u001b[1;32m   3235\u001b[0m \u001b[39mif\u001b[39;00m filename:\n\u001b[0;32m-> 3236\u001b[0m     fp \u001b[39m=\u001b[39m builtins\u001b[39m.\u001b[39;49mopen(filename, \u001b[39m\"\u001b[39;49m\u001b[39mrb\u001b[39;49m\u001b[39m\"\u001b[39;49m)\n\u001b[1;32m   3237\u001b[0m     exclusive_fp \u001b[39m=\u001b[39m \u001b[39mTrue\u001b[39;00m\n\u001b[1;32m   3239\u001b[0m \u001b[39mtry\u001b[39;00m:\n",
      "\u001b[0;31mFileNotFoundError\u001b[0m: [Errno 2] No such file or directory: '../data/pos/images/train/28.png'"
     ]
    }
   ],
   "source": [
    "import transformer_patches\n",
    "import counter\n",
    "\n",
    "img_id = \"28\"\n",
    "patches = transformer_patches.get_all_patches_with_objects(f'{img_id}.png', \"pos\", \"train\")\n",
    "transformer_patches.open_image_withpatches(f\"{img_id}.png\", \"pos\", \"train\", to_save=False)"
   ]
  },
  {
   "cell_type": "code",
   "execution_count": null,
   "metadata": {},
   "outputs": [],
   "source": [
    "import random\n",
    "\n",
    "def get_object_set(patch0, patches, model, reprs, layer):\n",
    "\n",
    "    object_set = set()\n",
    "    neighbors = utils.get_neighboring_patches(patch0)\n",
    "    probs = []\n",
    "\n",
    "    object_set.add(patch0)\n",
    "    patches_to_explore = []\n",
    "    prob_singleton = []\n",
    "\n",
    "    for neighbor in neighbors:\n",
    "        if neighbor in patches:\n",
    "            prob = get_prob_same_object(patch0, neighbor, model, reprs, layer)\n",
    "            if prob >= 0.5:\n",
    "                object_set.add(neighbor)\n",
    "                patches_to_explore.append((neighbor))\n",
    "                probs.append(prob)\n",
    "            else:\n",
    "                prob_singleton.append(1-prob)\n",
    "        else:\n",
    "            prob_singleton.append(1)\n",
    "\n",
    "    history = copy.deepcopy(neighbors)\n",
    "\n",
    "    while len(patches_to_explore) != 0:\n",
    "\n",
    "        edge = patches_to_explore.pop()\n",
    "        history.append(edge)\n",
    "        neighbors = utils.get_neighboring_patches(edge)\n",
    "        for neighbor in neighbors:\n",
    "            if neighbor in patches:\n",
    "                prob = get_prob_same_object(patch0, neighbor, model, reprs, layer)\n",
    "                # if prob >= np.mean(probs):\n",
    "                if prob >= 0.5:\n",
    "                    object_set.add(neighbor)\n",
    "                    probs.append(prob)\n",
    "                    if neighbor not in history:\n",
    "                        patches_to_explore.append(neighbor)\n",
    "                elif same_object(edge, neighbor, model, reprs, layer):\n",
    "                    # if random.random() < prob:\n",
    "                    if get_prob_same_object(patch0, neighbor, model, reprs, layer) > 0.3:\n",
    "                        # Different probabilities:\n",
    "                            # - 0.3: 0.7045 --> best\n",
    "                            # - 0.2: 0.688\n",
    "                            # - 0.4: 0.7015\n",
    "                        object_set.add(neighbor)\n",
    "                        probs.append(prob)\n",
    "                        if neighbor not in history:\n",
    "                            patches_to_explore.append(neighbor)\n",
    "    \n",
    "    if len(object_set) == 1:\n",
    "        probs = prob_singleton\n",
    "\n",
    "    return object_set, probs"
   ]
  },
  {
   "cell_type": "code",
   "execution_count": null,
   "metadata": {},
   "outputs": [],
   "source": [
    "import counter\n",
    "from collections import defaultdict\n",
    "import random\n",
    "\n",
    "def get_object_sets(reprs, layer, binding_probe, detect_probe, start_explore):\n",
    "\n",
    "    object_patches = counter.get_object_patches(detect_probe, reprs, layer)\n",
    "    object_patches_to_explore = copy.deepcopy(object_patches)\n",
    "    object_sets = set()\n",
    "    probs_dict = defaultdict(lambda: [])\n",
    "    # random.shuffle(object_patches)\n",
    "    # print(\"starting from patch \", object_patches[0])\n",
    "\n",
    "    for patch_id in range(start_explore, len(object_patches)+start_explore):\n",
    "        print(patch_id)\n",
    "        patch_id = patch_id % len(object_patches)\n",
    "        patch = object_patches[patch_id]\n",
    "    # for patch in object_patches:\n",
    "        if patch in object_patches_to_explore:\n",
    "\n",
    "            object_set, prob = get_object_set(\n",
    "                patch, copy.deepcopy(object_patches), binding_probe, reprs, layer\n",
    "            )\n",
    "            for patch in object_set:\n",
    "                if patch in object_patches_to_explore:\n",
    "                    object_patches_to_explore.remove(patch)\n",
    "            object_sets.add(frozenset(object_set))\n",
    "            probs_dict[frozenset(object_set)].append(prob)\n",
    "\n",
    "    return object_sets, probs_dict"
   ]
  },
  {
   "cell_type": "code",
   "execution_count": null,
   "metadata": {},
   "outputs": [],
   "source": [
    "def get_n_segmentations(n, reprs, layer, binding_probe, detect_probe):\n",
    "    segmentations = []\n",
    "    for i in range(n):\n",
    "        object_sets, probs_dict = get_object_sets(reprs, layer, binding_probe, detect_probe, i)\n",
    "        segmentations.append(object_sets)\n",
    "    return segmentations"
   ]
  },
  {
   "cell_type": "code",
   "execution_count": null,
   "metadata": {},
   "outputs": [],
   "source": [
    "segmentations = get_n_segmentations(5, reprs[img_id], 7, binding_probe_normal, detect_probe)"
   ]
  },
  {
   "attachments": {},
   "cell_type": "markdown",
   "metadata": {},
   "source": [
    "### 3. From the given segmentations, make a probability score"
   ]
  },
  {
   "cell_type": "code",
   "execution_count": null,
   "metadata": {},
   "outputs": [],
   "source": [
    "from itertools import combinations\n",
    "\n",
    "def get_prob_objectset(object_set, model, reprs, layer):\n",
    "    # object_set is a set of ints (i.e. patches)\n",
    "    probs = {}\n",
    "    if len(object_set) == 1:\n",
    "        probs[(0, 0)] = 1 #TODO\n",
    "        print(\"YUP\")\n",
    "    for patch0, patch1 in list(combinations(object_set, 2)):\n",
    "        prob = get_prob_same_object(patch0, patch1, model, reprs, layer)\n",
    "        probs[(patch0, patch1)] = prob\n",
    "    return probs"
   ]
  },
  {
   "cell_type": "code",
   "execution_count": null,
   "metadata": {},
   "outputs": [],
   "source": [
    "from itertools import combinations\n",
    "\n",
    "def get_prob_objectset(object_set, model, reprs, layer):\n",
    "    # object_set is a set of ints (i.e. patches)\n",
    "    probs = {}\n",
    "    if len(object_set) == 1:\n",
    "        # print(object_set)\n",
    "        # print()\n",
    "        patch = list(object_set)[0] # check if this works\n",
    "        # print(patch)\n",
    "        neighbors = utils.get_neighboring_patches(patch)\n",
    "        other_probs = []\n",
    "        for neighbor in neighbors:\n",
    "            other_probs.append(get_prob_same_object(patch, neighbor, model, reprs, layer))\n",
    "        probs[(patch, patch)] = 1 - np.mean(other_probs) \n",
    "    for patch0, patch1 in list(combinations(object_set, 2)):\n",
    "        prob = get_prob_same_object(patch0, patch1, model, reprs, layer)\n",
    "        probs[(patch0, patch1)] = prob\n",
    "    return probs"
   ]
  },
  {
   "cell_type": "code",
   "execution_count": null,
   "metadata": {},
   "outputs": [],
   "source": [
    "def get_probability(segmentation, binding_probe, reprs, layer):\n",
    "    accumulative_prob = []\n",
    "    for object in segmentation:\n",
    "        # print(object)\n",
    "        scores = get_prob_objectset(object, binding_probe, reprs, layer)\n",
    "        # print(\"scores: \", scores)\n",
    "        # print(scores.values())\n",
    "        prob = np.product(list(scores.values()))\n",
    "        # print(prob)\n",
    "        accumulative_prob.append(prob)\n",
    "    \n",
    "    # return np.mean(accumulative_prob)\n",
    "    return np.product(accumulative_prob)"
   ]
  },
  {
   "cell_type": "code",
   "execution_count": null,
   "metadata": {},
   "outputs": [],
   "source": [
    "def count_from_segmentations(segmentations, binding_probe, reprs, layer):\n",
    "    counts = []\n",
    "    probs = []\n",
    "    for segmentation in segmentations:\n",
    "        probs.append(get_probability(segmentation, binding_probe, reprs, layer))\n",
    "        counts.append(len(segmentation))\n",
    "    # print(\"counts: \", counts)\n",
    "    # print(\"probs: \", probs)\n",
    "    return int(np.round((np.average(counts, weights=probs))))"
   ]
  },
  {
   "attachments": {},
   "cell_type": "markdown",
   "metadata": {},
   "source": [
    "### Example"
   ]
  },
  {
   "cell_type": "code",
   "execution_count": null,
   "metadata": {},
   "outputs": [],
   "source": [
    "def get_representations(dataset, split):\n",
    "    file = f\"{dataset}_{split}_visual.pickle\"\n",
    "\n",
    "    with open(f\"../data/{dataset}/representations/\" + file, \"rb\") as f:\n",
    "        reprs = pickle.load(f)\n",
    "\n",
    "    return reprs\n",
    "\n",
    "reprs = get_representations(\"pos\", \"test\")\n",
    "    "
   ]
  },
  {
   "cell_type": "code",
   "execution_count": null,
   "metadata": {},
   "outputs": [
    {
     "name": "stdout",
     "output_type": "stream",
     "text": [
      "../data/pos/images/test/3.png\n",
      "(1478, 1478)\n"
     ]
    },
    {
     "data": {
      "image/png": "[encoded data removed]",
      "text/plain": [
       "<Figure size 1478x1478 with 1 Axes>"
      ]
     },
     "metadata": {},
     "output_type": "display_data"
    }
   ],
   "source": [
    "img_id = \"3\"\n",
    "patches = transformer_patches.get_all_patches_with_objects(f'{img_id}.png', \"pos\", \"test\")\n",
    "transformer_patches.open_image_withpatches(f\"{img_id}.png\", \"pos\", \"test\", to_save=False)"
   ]
  },
  {
   "cell_type": "code",
   "execution_count": null,
   "metadata": {},
   "outputs": [
    {
     "name": "stdout",
     "output_type": "stream",
     "text": [
      "0\n",
      "1\n",
      "2\n",
      "3\n",
      "4\n",
      "5\n",
      "6\n",
      "7\n",
      "8\n",
      "9\n",
      "10\n",
      "11\n",
      "12\n",
      "13\n",
      "14\n",
      "15\n",
      "16\n",
      "17\n",
      "18\n",
      "19\n",
      "20\n",
      "21\n",
      "22\n",
      "23\n",
      "24\n",
      "25\n",
      "26\n",
      "{frozenset({1, 2, 3, 4, 5, 8, 9, 10, 11, 12}), frozenset({36, 21, 22, 28, 29}), frozenset({32, 33, 39, 40, 47}), frozenset({43, 42, 35, 36}), frozenset({0, 1, 8, 7}), frozenset({40, 41, 48, 47})}\n",
      "[{frozenset({1, 2, 3, 4, 5, 8, 9, 10, 11, 12}), frozenset({36, 21, 22, 28, 29}), frozenset({32, 33, 39, 40, 47}), frozenset({43, 42, 35, 36}), frozenset({0, 1, 8, 7}), frozenset({40, 41, 48, 47})}]\n",
      "6\n"
     ]
    }
   ],
   "source": [
    "# img_id = \"5\"\n",
    "n_segmentations = get_n_segmentations(1, reprs[img_id], 7, binding_probe_normal, detect_probe)\n",
    "for segm in n_segmentations:\n",
    "    print(segm)\n",
    "print(n_segmentations)\n",
    "\n",
    "count = count_from_segmentations(n_segmentations, binding_probe_normal, reprs[img_id], 7)\n",
    "print(count)"
   ]
  },
  {
   "attachments": {},
   "cell_type": "markdown",
   "metadata": {},
   "source": [
    "### Experiment"
   ]
  },
  {
   "cell_type": "code",
   "execution_count": null,
   "metadata": {},
   "outputs": [],
   "source": [
    "import pickle\n",
    "import utils\n",
    "\n",
    "def experiment(dataset, split, layer, binding_probe, detect_probe):\n",
    "\n",
    "    reprs = get_representations(dataset, split)\n",
    "    annotation = utils.get_annotation(dataset, split)\n",
    "\n",
    "    layernorm = False\n",
    "    \n",
    "    predictions = []\n",
    "    labels = []\n",
    "\n",
    "    i = 0\n",
    "    for img_id, repr in reprs.items():\n",
    "\n",
    "        # object_sets, _ = get_object_sets(repr, layer, binding_probe, detect_probe)\n",
    "        n_segmentations = get_n_segmentations(2, repr, layer, binding_probe, detect_probe)\n",
    "        # print(n_segmentations)\n",
    "        count = count_from_segmentations(n_segmentations, binding_probe, repr, layer)\n",
    "        \n",
    "        # object_sets_edited = find_overlapping_objectsets_v2(object_sets, repr, layer, binding_probe)\n",
    "        # predictions.append(len(object_sets))\n",
    "        predictions.append(count)\n",
    "        labels.append(int(annotation[img_id][0]['n_objects']))\n",
    "\n",
    "        if i % 10 == 0:\n",
    "            print(f\"{i}/{len(reprs)}: {img_id}.png, {count} vs. {int(annotation[img_id][0]['n_objects'])}, pred vs. true\")\n",
    "            # print(f\"{i}/{len(reprs)}: {img_id}.png, {len(object_sets)} vs. {int(annotation[img_id][0]['n_objects'])}, pred vs. true\")\n",
    "        i += 1\n",
    "\n",
    "    return predictions, labels"
   ]
  },
  {
   "cell_type": "code",
   "execution_count": null,
   "metadata": {},
   "outputs": [],
   "source": [
    "# predictions, labels = experiment(\"pos\", \"test\", 7, binding_probe_normal, detect_probe)\n",
    "# print(predictions)\n",
    "# print(labels)"
   ]
  },
  {
   "cell_type": "code",
   "execution_count": null,
   "metadata": {},
   "outputs": [],
   "source": [
    "# print(counter.get_error(predictions, labels))\n",
    "# print(counter.get_accuracy(predictions, labels))"
   ]
  }
 ],
 "metadata": {
  "kernelspec": {
   "display_name": "newthesis",
   "language": "python",
   "name": "python3"
  },
  "language_info": {
   "codemirror_mode": {
    "name": "ipython",
    "version": 3
   },
   "file_extension": ".py",
   "mimetype": "text/x-python",
   "name": "python",
   "nbconvert_exporter": "python",
   "pygments_lexer": "ipython3",
   "version": "3.10.10"
  },
  "orig_nbformat": 4
 },
 "nbformat": 4,
 "nbformat_minor": 2
}
